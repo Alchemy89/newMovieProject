{
 "cells": [
  {
   "cell_type": "code",
   "execution_count": 21,
   "metadata": {
    "scrolled": true
   },
   "outputs": [
    {
     "ename": "IndentationError",
     "evalue": "expected an indented block (<ipython-input-21-ae124361d7b6>, line 21)",
     "output_type": "error",
     "traceback": [
      "\u001b[0;36m  File \u001b[0;32m\"<ipython-input-21-ae124361d7b6>\"\u001b[0;36m, line \u001b[0;32m21\u001b[0m\n\u001b[0;31m    dataTrain = pd.read_csv('./tmdb_5000_train.csv')\u001b[0m\n\u001b[0m            ^\u001b[0m\n\u001b[0;31mIndentationError\u001b[0m\u001b[0;31m:\u001b[0m expected an indented block\n"
     ]
    }
   ],
   "source": [
    "import pandas as pd\n",
    "import statsmodels.api as sm\n",
    "import scipy.stats as scp\n",
    "import numpy as np\n",
    "from sklearn.linear_model import LinearRegression\n",
    "from sklearn.linear_model import LogisticRegression\n",
    "from sklearn.feature_selection import RFE\n",
    "import matplotlib.pyplot as plt\n",
    "import seaborn as sns\n",
    "from pandas.plotting import scatter_matrix as scm\n",
    "from numpy import *\n",
    "from scipy import stats\n",
    "from numpy import set_printoptions\n",
    "from io import BytesIO\n",
    "import base64\n",
    "\n",
    "\n",
    "def multiRegPValue():\n",
    "    \n",
    "    dataTrain = pd.read_csv('./tmdb_5000_train.csv')\n",
    "    dataTest = pd.read_csv('./tmdb_5000_test.csv')    \n",
    "    \n",
    "    x_train = dataTrain[['budget', 'popularity', 'vote_count']].values.reshape(-1,3)\n",
    "    y_train = dataTrain['revenue']\n",
    "    \n",
    "    x_test = dataTest[['budget', 'popularity', 'vote_count']].values.reshape(-1,3)\n",
    "    y_test = dataTest['revenue']\n",
    "\n",
    "    ols = LinearRegression()\n",
    "    model = ols.fit(x_train, y_train)\n",
    "    params = np.append(model.intercept_,model.coef_)\n",
    "    \n",
    "    predictions = model.predict(x_train)\n",
    "    print(predictions)\n",
    "    \n",
    "    newX = pd.DataFrame({\"Constant\":np.ones(len(x_test))}).join(pd.DataFrame(x_test))\n",
    "    MSE = (sum((y_train-predictions)**2))/(len(newX)-len(newX.columns))\n",
    "\n",
    "    # Note if you don't want to use a DataFrame replace the two lines above with\n",
    "    # newX = np.append(np.ones((len(X),1)), X, axis=1)    \n",
    "    # MSE = (sum((y-predictions)**2))/(len(newX)-len(newX[0]))\n",
    "\n",
    "    var_b = MSE*(np.linalg.inv(np.dot(newX.T,newX)).diagonal())\n",
    "    sd_b = np.sqrt(var_b)\n",
    "    ts_b = params/ sd_b\n",
    "\n",
    "    p_values =[2*(1-stats.t.cdf(np.abs(i),(len(newX)-1))) for i in ts_b]\n",
    "\n",
    "    sd_b = np.round(sd_b,3)\n",
    "    ts_b = np.round(ts_b,3)\n",
    "    p_values = np.round(p_values,3)\n",
    "    params = np.round(params,4)\n",
    "\n",
    "    myDF3 = pd.DataFrame()  \n",
    "    myDF3[\"Coefficients\"],myDF3[\"Standard Errors\"],myDF3[\"t values\"],myDF3[\"Probabilites\"] = [params,sd_b,ts_b,p_values]\n",
    "    \n",
    "    print(myDF3)\n",
    "    return myDF3\n",
    "\n",
    "multiRegPValue()\n",
    "    "
   ]
  },
  {
   "cell_type": "code",
   "execution_count": null,
   "metadata": {},
   "outputs": [],
   "source": []
  }
 ],
 "metadata": {
  "kernelspec": {
   "display_name": "Python 2",
   "language": "python",
   "name": "python2"
  },
  "language_info": {
   "codemirror_mode": {
    "name": "ipython",
    "version": 2
   },
   "file_extension": ".py",
   "mimetype": "text/x-python",
   "name": "python",
   "nbconvert_exporter": "python",
   "pygments_lexer": "ipython2",
   "version": "2.7.14"
  }
 },
 "nbformat": 4,
 "nbformat_minor": 2
}
